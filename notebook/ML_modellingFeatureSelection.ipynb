{
 "cells": [
  {
   "cell_type": "code",
   "execution_count": 30,
   "metadata": {},
   "outputs": [],
   "source": [
    "import numpy as np\n",
    "import pandas as pd\n",
    "import matplotlib.pyplot as plt\n",
    "import seaborn as sns\n",
    "import sklearn\n",
    "from sklearn.preprocessing import LabelEncoder\n",
    "import scipy.stats as stats\n",
    "from sklearn.model_selection import train_test_split\n",
    "import feature_engine.transformation as vt\n",
    "from sklearn.linear_model import LinearRegression, Ridge, Lasso\n",
    "from sklearn.tree import DecisionTreeRegressor\n",
    "from sklearn.metrics import r2_score, mean_absolute_error, mean_squared_error\n",
    "from sklearn.model_selection import RandomizedSearchCV\n",
    "from catboost import CatBoostRegressor\n",
    "from xgboost import XGBRegressor\n",
    "from sklearn.ensemble import RandomForestRegressor, AdaBoostRegressor\n",
    "\n",
    "# the scaler - for min-max scaling\n",
    "from sklearn.preprocessing import MinMaxScaler"
   ]
  },
  {
   "cell_type": "code",
   "execution_count": 31,
   "metadata": {},
   "outputs": [],
   "source": [
    "data_fifa_new = pd.read_csv('data/fifa_cleaned.csv')"
   ]
  },
  {
   "cell_type": "code",
   "execution_count": 32,
   "metadata": {},
   "outputs": [
    {
     "data": {
      "text/plain": [
       "Index(['age', 'height_cm', 'weight_kg', 'overall', 'potential', 'value_eur',\n",
       "       'wage_eur', 'preferred_foot', 'weak_foot', 'skill_moves', 'work_rate',\n",
       "       'team_position', 'gk_diving', 'gk_handling', 'gk_kicking',\n",
       "       'gk_reflexes', 'attacking_crossing', 'attacking_finishing',\n",
       "       'attacking_heading_accuracy', 'attacking_short_passing',\n",
       "       'attacking_volleys', 'skill_dribbling', 'skill_curve',\n",
       "       'skill_fk_accuracy', 'skill_long_passing', 'skill_ball_control',\n",
       "       'movement_acceleration', 'movement_sprint_speed', 'movement_agility',\n",
       "       'movement_reactions', 'movement_balance', 'power_shot_power',\n",
       "       'power_jumping', 'power_stamina', 'power_strength', 'power_long_shots',\n",
       "       'mentality_aggression', 'mentality_interceptions',\n",
       "       'mentality_positioning', 'mentality_vision', 'mentality_penalties',\n",
       "       'mentality_composure', 'defending_marking', 'defending_standing_tackle',\n",
       "       'defending_sliding_tackle', 'goalkeeping_diving',\n",
       "       'goalkeeping_handling', 'goalkeeping_kicking',\n",
       "       'goalkeeping_positioning', 'goalkeeping_reflexes', 'pace_median',\n",
       "       'shooting_median', 'passing_median', 'dribbling_median',\n",
       "       'defending_median', 'physic_median'],\n",
       "      dtype='object')"
      ]
     },
     "execution_count": 32,
     "metadata": {},
     "output_type": "execute_result"
    }
   ],
   "source": [
    "data_fifa_new.columns"
   ]
  },
  {
   "cell_type": "code",
   "execution_count": 33,
   "metadata": {},
   "outputs": [],
   "source": [
    "# based on the feature selection method we will remove some independent features which are highly correlated with eachother.\n",
    "\n",
    "drop_feature = ['gk_diving','gk_handling','gk_kicking','gk_reflexes','defending_marking','attacking_crossing','attacking_finishing','attacking_short_passing','attacking_volleys','defending_median','defending_sliding_tackle',\n",
    "'defending_standing_tackle','dribbling_median','goalkeeping_diving','goalkeeping_handling','goalkeeping_kicking','goalkeeping_positioning',\n",
    "'goalkeeping_reflexes','mentality_aggression','mentality_composure','mentality_interceptions','mentality_penalties','mentality_positioning',\n",
    "'mentality_vision','movement_acceleration','movement_agility','movement_balance','movement_sprint_speed','passing_median','physic_median',\n",
    "'power_long_shots','power_shot_power','power_stamina','shooting_median','skill_ball_control','skill_curve','skill_dribbling','skill_fk_accuracy',\n",
    "'skill_long_passing','wage_eur','weight_kg']\n",
    "\n",
    "for feature in range(len(drop_feature)):\n",
    "    data_fifa_new = data_fifa_new.drop([drop_feature[feature]], axis=1)"
   ]
  },
  {
   "cell_type": "code",
   "execution_count": 34,
   "metadata": {},
   "outputs": [
    {
     "data": {
      "text/plain": [
       "Index(['age', 'height_cm', 'overall', 'potential', 'value_eur',\n",
       "       'preferred_foot', 'weak_foot', 'skill_moves', 'work_rate',\n",
       "       'team_position', 'attacking_heading_accuracy', 'movement_reactions',\n",
       "       'power_jumping', 'power_strength', 'pace_median'],\n",
       "      dtype='object')"
      ]
     },
     "execution_count": 34,
     "metadata": {},
     "output_type": "execute_result"
    }
   ],
   "source": [
    "data_fifa_new.columns"
   ]
  },
  {
   "cell_type": "code",
   "execution_count": 36,
   "metadata": {},
   "outputs": [
    {
     "name": "stdout",
     "output_type": "stream",
     "text": [
      "We have 13 numerical features : ['age', 'height_cm', 'overall', 'potential', 'value_eur', 'preferred_foot', 'weak_foot', 'skill_moves', 'attacking_heading_accuracy', 'movement_reactions', 'power_jumping', 'power_strength', 'pace_median']\n",
      "We have 2 categorical features : ['work_rate', 'team_position']\n"
     ]
    }
   ],
   "source": [
    "# numerical and categorical features\n",
    "\n",
    "numerical_features = [feature for feature in data_fifa_new.columns if data_fifa_new[feature].dtype != 'O']\n",
    "categorical_feature = [feature for feature in data_fifa_new.columns if data_fifa_new[feature].dtype == 'O']\n",
    "\n",
    "# print columns\n",
    "print('We have {} numerical features : {}'.format(len(numerical_features), numerical_features))\n",
    "print('We have {} categorical features : {}'.format(len(categorical_feature), categorical_feature))"
   ]
  },
  {
   "cell_type": "code",
   "execution_count": 37,
   "metadata": {},
   "outputs": [],
   "source": [
    "# lets move towards splitting the data.\n",
    "\n",
    "# get the locations\n",
    "y = data_fifa_new['overall']\n",
    "X = data_fifa_new.drop(columns=['overall'], axis=1)"
   ]
  },
  {
   "cell_type": "code",
   "execution_count": 38,
   "metadata": {},
   "outputs": [],
   "source": [
    "# create a column transformer with 3 types of transformer\n",
    "\n",
    "num_features = X.select_dtypes(exclude=\"object\").columns\n",
    "cat_features = X.select_dtypes(include=\"object\").columns\n",
    "\n",
    "from sklearn.preprocessing import OneHotEncoder, StandardScaler\n",
    "from sklearn.compose import ColumnTransformer\n",
    "\n",
    "numeric_transformer = StandardScaler()\n",
    "oh_transformer = OneHotEncoder()\n",
    "\n",
    "preprocessor = ColumnTransformer(\n",
    "    [\n",
    "        (\"OneHotEncoder\", oh_transformer, cat_features),\n",
    "        (\"StandardScaler\", numeric_transformer, num_features),\n",
    "    ]\n",
    ")"
   ]
  },
  {
   "cell_type": "code",
   "execution_count": 39,
   "metadata": {},
   "outputs": [],
   "source": [
    "X = preprocessor.fit_transform(X)"
   ]
  },
  {
   "cell_type": "code",
   "execution_count": 40,
   "metadata": {},
   "outputs": [
    {
     "data": {
      "text/plain": [
       "(18944, 51)"
      ]
     },
     "execution_count": 40,
     "metadata": {},
     "output_type": "execute_result"
    }
   ],
   "source": [
    "X.shape"
   ]
  },
  {
   "cell_type": "code",
   "execution_count": 41,
   "metadata": {},
   "outputs": [
    {
     "data": {
      "text/plain": [
       "((15155, 51), (3789, 51))"
      ]
     },
     "execution_count": 41,
     "metadata": {},
     "output_type": "execute_result"
    }
   ],
   "source": [
    "# split the dataset\n",
    "X_train, X_test, y_train, y_test = train_test_split(X, y, test_size=0.2, random_state=42)\n",
    "X_train.shape, X_test.shape"
   ]
  },
  {
   "cell_type": "markdown",
   "metadata": {},
   "source": [
    "#### Create an Evaluation function to give all metrics afte model training"
   ]
  },
  {
   "cell_type": "code",
   "execution_count": 42,
   "metadata": {},
   "outputs": [],
   "source": [
    "def evaluate_model(true, predicted):\n",
    "    mae = mean_absolute_error(true, predicted)\n",
    "    mse = mean_squared_error(true, predicted)\n",
    "    rmse = np.sqrt(mean_squared_error(true, predicted))\n",
    "    r2_square = r2_score(true, predicted)\n",
    "    return mae, rmse, r2_square"
   ]
  },
  {
   "cell_type": "code",
   "execution_count": 43,
   "metadata": {},
   "outputs": [
    {
     "name": "stdout",
     "output_type": "stream",
     "text": [
      "Linear Regression\n",
      "model performance for training dataset\n",
      "- Root mean Sqared Error: 2.0457\n",
      "- mean absolute Error: 1.5705\n",
      "- r2 score: 0.9155\n",
      "-----------------------------------------------------\n",
      "Model performace on test dataset\n",
      "- Root mean Sqared Error: 2.0468\n",
      "- mean absolute Error: 1.5702\n",
      "- r2 score: 0.9111\n",
      "===================================\n",
      "\n",
      "\n",
      "Lasso\n",
      "model performance for training dataset\n",
      "- Root mean Sqared Error: 2.8519\n",
      "- mean absolute Error: 2.2469\n",
      "- r2 score: 0.8357\n",
      "-----------------------------------------------------\n",
      "Model performace on test dataset\n",
      "- Root mean Sqared Error: 2.8452\n",
      "- mean absolute Error: 2.2365\n",
      "- r2 score: 0.8283\n",
      "===================================\n",
      "\n",
      "\n",
      "Ridge\n",
      "model performance for training dataset\n",
      "- Root mean Sqared Error: 2.0457\n",
      "- mean absolute Error: 1.5704\n",
      "- r2 score: 0.9155\n",
      "-----------------------------------------------------\n",
      "Model performace on test dataset\n",
      "- Root mean Sqared Error: 2.0471\n",
      "- mean absolute Error: 1.5700\n",
      "- r2 score: 0.9111\n",
      "===================================\n",
      "\n",
      "\n",
      "Random Forest Regressor\n",
      "model performance for training dataset\n",
      "- Root mean Sqared Error: 0.1521\n",
      "- mean absolute Error: 0.0815\n",
      "- r2 score: 0.9995\n",
      "-----------------------------------------------------\n",
      "Model performace on test dataset\n",
      "- Root mean Sqared Error: 0.3914\n",
      "- mean absolute Error: 0.2178\n",
      "- r2 score: 0.9967\n",
      "===================================\n",
      "\n",
      "\n",
      "XGBRegressor\n",
      "model performance for training dataset\n",
      "- Root mean Sqared Error: 0.2803\n",
      "- mean absolute Error: 0.2097\n",
      "- r2 score: 0.9984\n",
      "-----------------------------------------------------\n",
      "Model performace on test dataset\n",
      "- Root mean Sqared Error: 0.4229\n",
      "- mean absolute Error: 0.2983\n",
      "- r2 score: 0.9962\n",
      "===================================\n",
      "\n",
      "\n",
      "CatBoosting Regressor\n",
      "model performance for training dataset\n",
      "- Root mean Sqared Error: 0.3261\n",
      "- mean absolute Error: 0.2487\n",
      "- r2 score: 0.9979\n",
      "-----------------------------------------------------\n",
      "Model performace on test dataset\n",
      "- Root mean Sqared Error: 0.3962\n",
      "- mean absolute Error: 0.2886\n",
      "- r2 score: 0.9967\n",
      "===================================\n",
      "\n",
      "\n",
      "AdaBoost Regressor\n",
      "model performance for training dataset\n",
      "- Root mean Sqared Error: 1.6812\n",
      "- mean absolute Error: 1.3477\n",
      "- r2 score: 0.9429\n",
      "-----------------------------------------------------\n",
      "Model performace on test dataset\n",
      "- Root mean Sqared Error: 1.7098\n",
      "- mean absolute Error: 1.3578\n",
      "- r2 score: 0.9380\n",
      "===================================\n",
      "\n",
      "\n"
     ]
    }
   ],
   "source": [
    "models = {\n",
    "    \"Linear Regression\" : LinearRegression(),\n",
    "    \"Lasso\" : Lasso(),\n",
    "    \"Ridge\" : Ridge(),\n",
    "    \"Random Forest Regressor\" : RandomForestRegressor(),\n",
    "    \"XGBRegressor\" : XGBRegressor(),\n",
    "    \"CatBoosting Regressor\" : CatBoostRegressor(verbose = False),\n",
    "    \"AdaBoost Regressor\" : AdaBoostRegressor()\n",
    "}\n",
    "\n",
    "model_list = []\n",
    "r2_list = []\n",
    "\n",
    "for i in range(len(list(models))):\n",
    "    model = list(models.values())[i]\n",
    "    model.fit(X_train, y_train)\n",
    "\n",
    "    # make predictions\n",
    "    y_train_pred = model.predict(X_train)\n",
    "    y_test_pred = model.predict(X_test)\n",
    "\n",
    "    # Evaluate train and test set\n",
    "    model_train_mae, model_train_rmse, model_train_r2 = evaluate_model(y_train, y_train_pred)\n",
    "    model_test_mae, model_test_rmse, model_test_r2 = evaluate_model(y_test, y_test_pred)\n",
    "\n",
    "    print(list(models.keys())[i])\n",
    "    model_list.append(list(models.keys())[i])\n",
    "\n",
    "    print(\"model performance for training dataset\")\n",
    "    print(\"- Root mean Sqared Error: {:.4f}\".format(model_train_rmse))\n",
    "    print(\"- mean absolute Error: {:.4f}\".format(model_train_mae))\n",
    "    print(\"- r2 score: {:.4f}\".format(model_train_r2))\n",
    "    r2_list.append(model_train_r2)\n",
    "\n",
    "    print(\"-----------------------------------------------------\")\n",
    "\n",
    "    print(\"Model performace on test dataset\")\n",
    "    print(\"- Root mean Sqared Error: {:.4f}\".format(model_test_rmse))\n",
    "    print(\"- mean absolute Error: {:.4f}\".format(model_test_mae))\n",
    "    print(\"- r2 score: {:.4f}\".format(model_test_r2))  \n",
    "    r2_list.append(model_test_r2)\n",
    "\n",
    "\n",
    "    print(\"=\"*35)\n",
    "    print('\\n')"
   ]
  },
  {
   "cell_type": "code",
   "execution_count": 44,
   "metadata": {},
   "outputs": [
    {
     "data": {
      "text/html": [
       "<div>\n",
       "<style scoped>\n",
       "    .dataframe tbody tr th:only-of-type {\n",
       "        vertical-align: middle;\n",
       "    }\n",
       "\n",
       "    .dataframe tbody tr th {\n",
       "        vertical-align: top;\n",
       "    }\n",
       "\n",
       "    .dataframe thead th {\n",
       "        text-align: right;\n",
       "    }\n",
       "</style>\n",
       "<table border=\"1\" class=\"dataframe\">\n",
       "  <thead>\n",
       "    <tr style=\"text-align: right;\">\n",
       "      <th></th>\n",
       "      <th>Model Name</th>\n",
       "      <th>R2_Score</th>\n",
       "    </tr>\n",
       "  </thead>\n",
       "  <tbody>\n",
       "    <tr>\n",
       "      <th>6</th>\n",
       "      <td>AdaBoost Regressor</td>\n",
       "      <td>0.999533</td>\n",
       "    </tr>\n",
       "    <tr>\n",
       "      <th>0</th>\n",
       "      <td>Linear Regression</td>\n",
       "      <td>0.915459</td>\n",
       "    </tr>\n",
       "    <tr>\n",
       "      <th>4</th>\n",
       "      <td>XGBRegressor</td>\n",
       "      <td>0.915455</td>\n",
       "    </tr>\n",
       "    <tr>\n",
       "      <th>1</th>\n",
       "      <td>Lasso</td>\n",
       "      <td>0.911120</td>\n",
       "    </tr>\n",
       "    <tr>\n",
       "      <th>5</th>\n",
       "      <td>CatBoosting Regressor</td>\n",
       "      <td>0.911094</td>\n",
       "    </tr>\n",
       "    <tr>\n",
       "      <th>2</th>\n",
       "      <td>Ridge</td>\n",
       "      <td>0.835697</td>\n",
       "    </tr>\n",
       "    <tr>\n",
       "      <th>3</th>\n",
       "      <td>Random Forest Regressor</td>\n",
       "      <td>0.828251</td>\n",
       "    </tr>\n",
       "  </tbody>\n",
       "</table>\n",
       "</div>"
      ],
      "text/plain": [
       "                Model Name  R2_Score\n",
       "6       AdaBoost Regressor  0.999533\n",
       "0        Linear Regression  0.915459\n",
       "4             XGBRegressor  0.915455\n",
       "1                    Lasso  0.911120\n",
       "5    CatBoosting Regressor  0.911094\n",
       "2                    Ridge  0.835697\n",
       "3  Random Forest Regressor  0.828251"
      ]
     },
     "execution_count": 44,
     "metadata": {},
     "output_type": "execute_result"
    }
   ],
   "source": [
    "pd.DataFrame(list(zip(model_list, r2_list)), columns=['Model Name','R2_Score']).sort_values(by=['R2_Score'], ascending=False)"
   ]
  },
  {
   "cell_type": "markdown",
   "metadata": {},
   "source": [
    "# Linear Regression"
   ]
  },
  {
   "cell_type": "code",
   "execution_count": 45,
   "metadata": {},
   "outputs": [
    {
     "name": "stdout",
     "output_type": "stream",
     "text": [
      "Accuracy of the model is 91.11\n"
     ]
    }
   ],
   "source": [
    "lin_model = LinearRegression(fit_intercept=True)\n",
    "lin_model = lin_model.fit(X_train, y_train)\n",
    "y_pred = lin_model.predict(X_test)\n",
    "score = r2_score(y_test, y_pred)*100\n",
    "print(\"Accuracy of the model is %.2f\" %score)"
   ]
  },
  {
   "cell_type": "markdown",
   "metadata": {},
   "source": [
    "# Plot y_pred and y_test"
   ]
  },
  {
   "cell_type": "code",
   "execution_count": 46,
   "metadata": {},
   "outputs": [
    {
     "data": {
      "image/png": "[encoded data removed]",
      "text/plain": [
       "<Figure size 640x480 with 1 Axes>"
      ]
     },
     "metadata": {},
     "output_type": "display_data"
    }
   ],
   "source": [
    "plt.scatter(y_test, y_pred);\n",
    "plt.xlabel('Actual');\n",
    "plt.ylabel('Predicted');"
   ]
  },
  {
   "cell_type": "code",
   "execution_count": 47,
   "metadata": {},
   "outputs": [
    {
     "data": {
      "text/plain": [
       "<Axes: xlabel='overall'>"
      ]
     },
     "execution_count": 47,
     "metadata": {},
     "output_type": "execute_result"
    },
    {
     "data": {
      "image/png": "[encoded data removed]",
      "text/plain": [
       "<Figure size 640x480 with 1 Axes>"
      ]
     },
     "metadata": {},
     "output_type": "display_data"
    }
   ],
   "source": [
    "sns.regplot(x=y_test, y=y_pred, ci=None, color='red')"
   ]
  },
  {
   "cell_type": "markdown",
   "metadata": {},
   "source": [
    "# Difference between Actual and Predicted Values"
   ]
  },
  {
   "cell_type": "code",
   "execution_count": 49,
   "metadata": {},
   "outputs": [
    {
     "data": {
      "text/html": [
       "<div>\n",
       "<style scoped>\n",
       "    .dataframe tbody tr th:only-of-type {\n",
       "        vertical-align: middle;\n",
       "    }\n",
       "\n",
       "    .dataframe tbody tr th {\n",
       "        vertical-align: top;\n",
       "    }\n",
       "\n",
       "    .dataframe thead th {\n",
       "        text-align: right;\n",
       "    }\n",
       "</style>\n",
       "<table border=\"1\" class=\"dataframe\">\n",
       "  <thead>\n",
       "    <tr style=\"text-align: right;\">\n",
       "      <th></th>\n",
       "      <th>Actual Value</th>\n",
       "      <th>Predicted Value</th>\n",
       "      <th>Difference</th>\n",
       "    </tr>\n",
       "  </thead>\n",
       "  <tbody>\n",
       "    <tr>\n",
       "      <th>15024</th>\n",
       "      <td>60</td>\n",
       "      <td>60.992954</td>\n",
       "      <td>-0.992954</td>\n",
       "    </tr>\n",
       "    <tr>\n",
       "      <th>11771</th>\n",
       "      <td>64</td>\n",
       "      <td>64.788176</td>\n",
       "      <td>-0.788176</td>\n",
       "    </tr>\n",
       "    <tr>\n",
       "      <th>16615</th>\n",
       "      <td>58</td>\n",
       "      <td>57.802653</td>\n",
       "      <td>0.197347</td>\n",
       "    </tr>\n",
       "    <tr>\n",
       "      <th>4201</th>\n",
       "      <td>71</td>\n",
       "      <td>70.976365</td>\n",
       "      <td>0.023635</td>\n",
       "    </tr>\n",
       "    <tr>\n",
       "      <th>13480</th>\n",
       "      <td>62</td>\n",
       "      <td>62.801663</td>\n",
       "      <td>-0.801663</td>\n",
       "    </tr>\n",
       "    <tr>\n",
       "      <th>...</th>\n",
       "      <td>...</td>\n",
       "      <td>...</td>\n",
       "      <td>...</td>\n",
       "    </tr>\n",
       "    <tr>\n",
       "      <th>8404</th>\n",
       "      <td>67</td>\n",
       "      <td>66.685955</td>\n",
       "      <td>0.314045</td>\n",
       "    </tr>\n",
       "    <tr>\n",
       "      <th>5412</th>\n",
       "      <td>69</td>\n",
       "      <td>69.870322</td>\n",
       "      <td>-0.870322</td>\n",
       "    </tr>\n",
       "    <tr>\n",
       "      <th>3755</th>\n",
       "      <td>72</td>\n",
       "      <td>68.860316</td>\n",
       "      <td>3.139684</td>\n",
       "    </tr>\n",
       "    <tr>\n",
       "      <th>11886</th>\n",
       "      <td>63</td>\n",
       "      <td>63.927520</td>\n",
       "      <td>-0.927520</td>\n",
       "    </tr>\n",
       "    <tr>\n",
       "      <th>13592</th>\n",
       "      <td>62</td>\n",
       "      <td>61.083695</td>\n",
       "      <td>0.916305</td>\n",
       "    </tr>\n",
       "  </tbody>\n",
       "</table>\n",
       "<p>3789 rows × 3 columns</p>\n",
       "</div>"
      ],
      "text/plain": [
       "       Actual Value  Predicted Value  Difference\n",
       "15024            60        60.992954   -0.992954\n",
       "11771            64        64.788176   -0.788176\n",
       "16615            58        57.802653    0.197347\n",
       "4201             71        70.976365    0.023635\n",
       "13480            62        62.801663   -0.801663\n",
       "...             ...              ...         ...\n",
       "8404             67        66.685955    0.314045\n",
       "5412             69        69.870322   -0.870322\n",
       "3755             72        68.860316    3.139684\n",
       "11886            63        63.927520   -0.927520\n",
       "13592            62        61.083695    0.916305\n",
       "\n",
       "[3789 rows x 3 columns]"
      ]
     },
     "execution_count": 49,
     "metadata": {},
     "output_type": "execute_result"
    }
   ],
   "source": [
    "pred_df = pd.DataFrame({'Actual Value': y_test, 'Predicted Value': y_pred, 'Difference': y_test-y_pred})\n",
    "pred_df"
   ]
  },
  {
   "cell_type": "code",
   "execution_count": 50,
   "metadata": {},
   "outputs": [],
   "source": [
    "# So after Feature selection we can see that the accuracy is bit changed but we are getting nearby predictions. "
   ]
  },
  {
   "cell_type": "code",
   "execution_count": null,
   "metadata": {},
   "outputs": [],
   "source": []
  }
 ],
 "metadata": {
  "interpreter": {
   "hash": "067776ecfe78b5bd2a3a19e4f48cb0a62d140d7985497b6a99b954c5e0b4b3f1"
  },
  "kernelspec": {
   "display_name": "Python 3.10.9",
   "language": "python",
   "name": "python3"
  },
  "language_info": {
   "codemirror_mode": {
    "name": "ipython",
    "version": 3
   },
   "file_extension": ".py",
   "mimetype": "text/x-python",
   "name": "python",
   "nbconvert_exporter": "python",
   "pygments_lexer": "ipython3",
   "version": "3.10.9"
  },
  "orig_nbformat": 4
 },
 "nbformat": 4,
 "nbformat_minor": 2
}
